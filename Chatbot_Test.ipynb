{
  "nbformat": 4,
  "nbformat_minor": 0,
  "metadata": {
    "colab": {
      "provenance": []
    },
    "kernelspec": {
      "name": "python3",
      "display_name": "Python 3"
    },
    "language_info": {
      "name": "python"
    }
  },
  "cells": [
    {
      "cell_type": "code",
      "source": [
        "!pip install torch transformers\n",
        "import torch\n",
        "from transformers import pipeline\n",
        "import pandas as pd\n"
      ],
      "metadata": {
        "id": "HQFZq1a3sY7V"
      },
      "execution_count": null,
      "outputs": []
    },
    {
      "cell_type": "code",
      "source": [
        "# load the data from the CSV file\n",
        "data = pd.read_csv('/content/drive/MyDrive/data.csv')"
      ],
      "metadata": {
        "id": "sVrCYVQasjQY"
      },
      "execution_count": null,
      "outputs": []
    },
    {
      "cell_type": "code",
      "source": [
        "df = data\n",
        "# replace NaN values\n",
        "df['About Product'] = df['About Product'].fillna('')\n",
        "\n",
        "# initialize NLP pipeline\n",
        "nlp_pipeline = pipeline('question-answering', model='bert-large-uncased-whole-word-masking-finetuned-squad', tokenizer='bert-large-uncased')\n",
        "\n",
        "# define a function to interact with the customer\n",
        "def chatbot():\n",
        "    print(\"Welcome to our store! How can I assist you today?\")\n",
        "    while True:\n",
        "        user_input = input(\"Customer: \").strip()  # Get user input and strip()\n",
        "\n",
        "        # exit condition\n",
        "        if user_input.lower() == 'exit':\n",
        "            print(\"Chatbot: Thank you for visiting us. Have a great day!\")\n",
        "            break\n",
        "\n",
        "        # use the NLP pipeline to understand user input\n",
        "        # join all 'About Product' descriptions as context\n",
        "        context = ' '.join(df['About Product'].astype(str).tolist())\n",
        "\n",
        "        answer = nlp_pipeline({\n",
        "            'question': user_input,\n",
        "            'context': context\n",
        "        })\n",
        "\n",
        "        # retrieve relevant products based on the answer\n",
        "        if answer['score'] > 0.5:  # adjust the score threshold as needed\n",
        "            product_name = answer['answer']\n",
        "            relevant_products = df[df['Product Name'].str.lower().str.contains(product_name.lower())]\n",
        "\n",
        "            if not relevant_products.empty:\n",
        "                print(f\"Chatbot: Here are some products related to '{product_name}':\")\n",
        "                for index, product in relevant_products.head(5).iterrows():\n",
        "                    print(f\"- Product Name: {product['Product Name']}\")\n",
        "                    print(f\"  Category: {product['Category']}\")\n",
        "                    print(f\"  Selling Price: ${product['Selling Price']}\")\n",
        "                    print()\n",
        "            else:\n",
        "                print(f\"Chatbot: I'm sorry, we couldn't find products related to '{product_name}'.\")\n",
        "        else:\n",
        "            print(\"Chatbot: I'm sorry, I couldn't understand your query. Could you please rephrase?\")\n",
        "\n",
        "        print(\"Chatbot: Is there anything else I can assist you with? If not, just say 'exit'.\")\n",
        "\n",
        "# let the chatbot begin\n",
        "chatbot()"
      ],
      "metadata": {
        "id": "Iscn5EX3ra6Y"
      },
      "execution_count": null,
      "outputs": []
    }
  ]
}